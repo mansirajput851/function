{
  "nbformat": 4,
  "nbformat_minor": 0,
  "metadata": {
    "colab": {
      "provenance": []
    },
    "kernelspec": {
      "name": "python3",
      "display_name": "Python 3"
    },
    "language_info": {
      "name": "python"
    }
  },
  "cells": [
    {
      "cell_type": "markdown",
      "source": [
        "#functions"
      ],
      "metadata": {
        "id": "RZcRH62gEgfn"
      }
    },
    {
      "cell_type": "markdown",
      "source": [
        "1. What is the difference between a function and a method in python?\n",
        "\n",
        "   - In python, both function and methods are blocks of code designed to perform specific tasks, but their key difference lies ;n their association with objects and classes.\n",
        "          function - def greet(name):\n",
        "                         print(f\"Hello, {name}!\")\n",
        "                     greet(\"mansi\")\n",
        "\n",
        "           Method - class person:\n",
        "                        def_init_(self):\n",
        "                            self.name = name\n",
        "                        def introduction(self):\n",
        "                            print(f\"my name is {mansi}.\")\n",
        "                    person1 = person(\"Bob\")\n",
        "                    person1.introducton()"
      ],
      "metadata": {
        "id": "rleVjgUhEsMO"
      }
    },
    {
      "cell_type": "markdown",
      "source": [
        "2. Explain the concept of function arguments and parameteters in pyhton?\n",
        "\n",
        " - Parameters are the variables defined within the parameters in a function's actings as placeholders for value that the function expect to receive. Arguments are the actual values passed to these parameters when the functions is called.\n",
        "\n",
        "             def add_numbers(num1, num2)\n",
        "                 sum result = num1 + num2\n",
        "                 print(f\"the sum is: {sum_result}\")\n",
        "\n",
        "            add_numbers(6, 7)\n",
        "            add_numbers(10,20) #10 and 20 are arguments\n"
      ],
      "metadata": {
        "id": "vnEAs_82Ft3e"
      }
    },
    {
      "cell_type": "markdown",
      "source": [
        "3. What are the different ways to define and call a function  in python?\n",
        "\n",
        " - A function is a named, reusable block of code designed to perform a specific\n",
        " task.function promote code organization, reusability, and modularity, making programs easier to understand, debug, and maintain.To call a function in python type the name of the function followed by parentheses (). if the function requires arguments,they are placed inside the parantheses, separated by commas.\n"
      ],
      "metadata": {
        "id": "D106SNpHGIne"
      }
    },
    {
      "cell_type": "markdown",
      "source": [
        "4. What is the purpose of the `return` statement in a python function?\n",
        "\n",
        " - A return statement is used to end the execution of the function call and it \"returns\" the value of the expression following the return keyword to the caller. The statements after the return statements are not executed. If the return statement is without any expression, then the special value None is returned. A return statement is overall used to invoke a function so that the passed statements can be executed."
      ],
      "metadata": {
        "id": "UI9fIBEYGxQW"
      }
    },
    {
      "cell_type": "markdown",
      "source": [
        "5. What are iterators in python and how do they differ from iterable?\n",
        "\n",
        " - Iterators - An iterators is any python object/sequential structure/data structure that is capable of returning its members one at a time.\n",
        "\n",
        "    example - list, tuples.\n",
        "  \n",
        "     Iterable - An iterable is an object capable of returning its members one at a time.\n",
        "\n",
        "     example - strings, sets\n",
        "\n"
      ],
      "metadata": {
        "id": "dFEyvSb-LGXl"
      }
    },
    {
      "cell_type": "markdown",
      "source": [
        "6. Explain the concept of generators in python and how they are difined.\n",
        "\n",
        " - Generators functions in python are a way to create iterators in a more concise nad memory-efficient manner."
      ],
      "metadata": {
        "id": "6hayaR-rLGGp"
      }
    },
    {
      "cell_type": "markdown",
      "source": [
        "7. What are the advantages of using generators over regular functions?\n",
        "\n",
        " - Regular function is takes a list and gives square of each of the list."
      ],
      "metadata": {
        "id": "ORBdEeU2LGAN"
      }
    },
    {
      "cell_type": "markdown",
      "source": [
        "8. What is a lambda function in python and when is it typically used?\n",
        "\n",
        " - A lambda function in python is a concise way to create anonymous function, also known as lambda expressions. lambda functions are typically used for short, simple operations, especially when you need to pass a function as an argument to another function (like map, filter, or sorted).\n",
        "\n",
        "         add  = lambda x, y: x + y"
      ],
      "metadata": {
        "id": "CNFmXajmMPVL"
      }
    },
    {
      "cell_type": "markdown",
      "source": [
        "9. Explain the purpose and usage of the `map()` function in python.\n",
        "\n",
        " - The `map()` function executes a specified function for each item in an ` iterable`. The item is sent to the function as a parameter. the map() function\n",
        " in python is a simple tool for applying a function to every item in an iterable, like a list.\n",
        "                    \n",
        "          functools.reduce(function, iterable[, initializer])\n",
        "              "
      ],
      "metadata": {
        "id": "eUsVIrBOMQaB"
      }
    },
    {
      "cell_type": "markdown",
      "source": [
        "10. What is the difference between `map()`,`reduce()`, and `filter()` functions in python?\n",
        "\n",
        " - The map, filter, reduce function in python are higher-order function  that process iterable, but they differ in their purpose and the type of output they producce.\n",
        "          map - square_number = list(map(lambda x: x*2, numbers))\n",
        "          filters - list(filter(lambda x: x%2 ==0, numbers))\n",
        "          reduce - sum_of_numbers = reduce(lambda x, y: x+y, numbers)"
      ],
      "metadata": {
        "id": "RQxHFUUBfHDq"
      }
    },
    {
      "cell_type": "markdown",
      "source": [
        "11. Using pen & paper write the internal mechanism for sum operation using reduce function on this given list:[47,11,42,13];"
      ],
      "metadata": {
        "id": "nBDGFykMT5Fh"
      }
    },
    {
      "cell_type": "code",
      "execution_count": null,
      "metadata": {
        "id": "xC8KYpJKEWaS",
        "colab": {
          "base_uri": "https://localhost:8080/"
        },
        "outputId": "919591b2-a314-4baa-a30f-5d36c0d1d313"
      },
      "outputs": [
        {
          "output_type": "execute_result",
          "data": {
            "text/plain": [
              "113"
            ]
          },
          "metadata": {},
          "execution_count": 2
        }
      ],
      "source": [
        "from functools import reduce\n",
        "l = [47,11,42,13]\n",
        "reduce (lambda x, y : x + y, l)"
      ]
    },
    {
      "cell_type": "markdown",
      "source": [
        "# practical Questions:"
      ],
      "metadata": {
        "id": "5ke1A54SWxny"
      }
    },
    {
      "cell_type": "markdown",
      "source": [
        "1. Write a python function that takes a list of numbers as input and returns the sum of all even numbers in the list."
      ],
      "metadata": {
        "id": "CErq12oZWxTb"
      }
    },
    {
      "cell_type": "code",
      "source": [
        "def sum_list_elements(numbers):\n",
        "  \"\"\"\n",
        "  calculates the sum of all numbers in a list.\n",
        "  Args:\n",
        "   numbers: a list of numbers(int or floats).\n",
        "  Returns:\n",
        "   the sum of the numbers in the list.\n",
        "   \"\"\"\n",
        "   total = sum(numbers)\n",
        "   return total"
      ],
      "metadata": {
        "id": "_jBIfVCTWC0T"
      },
      "execution_count": null,
      "outputs": []
    },
    {
      "cell_type": "markdown",
      "source": [
        "2. Create a pyhton function that accepts a string and returns the reverse of that string."
      ],
      "metadata": {
        "id": "0mJJag2OaOOr"
      }
    },
    {
      "cell_type": "code",
      "source": [
        "#reverse string\n",
        "string = \"python\"\n",
        "reverse = \"\"\n",
        "for i in range(len(string)):\n",
        "  reverse = string[i]+reverse\n",
        "  print(reverse)"
      ],
      "metadata": {
        "colab": {
          "base_uri": "https://localhost:8080/"
        },
        "id": "Lobn-Q7calln",
        "outputId": "1e7aab6c-7ed8-4dda-f7d9-b39bcf5e8d66"
      },
      "execution_count": 3,
      "outputs": [
        {
          "output_type": "stream",
          "name": "stdout",
          "text": [
            "p\n",
            "yp\n",
            "typ\n",
            "htyp\n",
            "ohtyp\n",
            "nohtyp\n"
          ]
        }
      ]
    },
    {
      "cell_type": "markdown",
      "source": [
        "3. Implement a python function that takes a list of integers and return a new list  containing the squares of each number."
      ],
      "metadata": {
        "id": "qxLrNI0Xksxd"
      }
    },
    {
      "cell_type": "code",
      "source": [
        "def square_no(a):\n",
        "  return a*a\n",
        "\n",
        "square_no(6)"
      ],
      "metadata": {
        "colab": {
          "base_uri": "https://localhost:8080/"
        },
        "id": "7dE2CMKtmT64",
        "outputId": "b055ac26-1eea-407d-b928-a68a79c3a569"
      },
      "execution_count": 4,
      "outputs": [
        {
          "output_type": "execute_result",
          "data": {
            "text/plain": [
              "36"
            ]
          },
          "metadata": {},
          "execution_count": 4
        }
      ]
    },
    {
      "cell_type": "markdown",
      "source": [
        "4. write a python function that checks if a given number is prime or not from."
      ],
      "metadata": {
        "id": "hqPNuRQGmiOB"
      }
    },
    {
      "cell_type": "code",
      "source": [
        "def is_prime(num):\n",
        "    if num <= 1:\n",
        "        return False\n",
        "    for i in range(2, int(num**0.5) + 1):\n",
        "        if num % i == 0:\n",
        "            return False\n",
        "    return True\n",
        "\n",
        "number = int(input(\"Enter a number: \"))\n",
        "if is_prime(number):\n",
        "    print(f\"{number} is a prime number.\")\n",
        "else:\n",
        "    print(f\"{number} is not a prime number.\")"
      ],
      "metadata": {
        "colab": {
          "base_uri": "https://localhost:8080/"
        },
        "id": "W7WLj5caZ39J",
        "outputId": "0b96034b-0995-458f-b53f-0073797df453"
      },
      "execution_count": 1,
      "outputs": [
        {
          "output_type": "stream",
          "name": "stdout",
          "text": [
            "Enter a number: 13\n",
            "13 is a prime number.\n"
          ]
        }
      ]
    },
    {
      "cell_type": "markdown",
      "source": [
        "5. Create a iterator class in python that generates the fibonacci sequence up to a specified number of terms."
      ],
      "metadata": {
        "id": "w7CyEzRJvQCD"
      }
    },
    {
      "cell_type": "code",
      "source": [
        "def fib (n):\n",
        "  a = 0\n",
        "  b = 1\n",
        "  for i in range(n): #if n = 5,0,1,2,3,4\n",
        "    yield a\n",
        "    a, b = b, a+b\n",
        "\n",
        "f = fib(1000000000)\n",
        "f\n",
        "next(f)"
      ],
      "metadata": {
        "colab": {
          "base_uri": "https://localhost:8080/"
        },
        "id": "C6-RULE0zN01",
        "outputId": "9eae3046-ca75-4f7b-f3f5-565716f3c428"
      },
      "execution_count": 5,
      "outputs": [
        {
          "output_type": "execute_result",
          "data": {
            "text/plain": [
              "0"
            ]
          },
          "metadata": {},
          "execution_count": 5
        }
      ]
    },
    {
      "cell_type": "markdown",
      "source": [
        "6. write a generator function in python that yields the powers of 2 up to a given exponent."
      ],
      "metadata": {
        "id": "tts_ZwlszPju"
      }
    },
    {
      "cell_type": "code",
      "source": [
        "def square_number_generators(n):\n",
        "  for i in range(n):\n",
        "    yield i ** 2\n",
        "    square_number_generators(10) # yield is creating a generator similar to itertor object"
      ],
      "metadata": {
        "id": "lI1t-UU50ZOt"
      },
      "execution_count": 17,
      "outputs": []
    },
    {
      "cell_type": "markdown",
      "source": [
        "7.Implement a generator function that reads a file line by line and yield each line as a string."
      ],
      "metadata": {
        "id": "oNK-t2aW5JUc"
      }
    },
    {
      "cell_type": "code",
      "source": [
        "def read_lines_generator(filepath):\n",
        "    \"\"\"\n",
        "    A generator function that reads a file line by line and yields each line as a string.\n",
        "    \"\"\"\n",
        "    with open(filepath, 'r') as file:\n",
        "        for line in file:\n",
        "            yield line.strip()\n"
      ],
      "metadata": {
        "id": "ip8OGcIMcaoS"
      },
      "execution_count": 6,
      "outputs": []
    },
    {
      "cell_type": "markdown",
      "source": [
        "8. Use a lambda funtion in python to sort a list of tuples based on the second element of each tuple."
      ],
      "metadata": {
        "id": "ux3WLKf_5F4V"
      }
    },
    {
      "cell_type": "code",
      "source": [
        "le = lambda x: len(x)\n",
        "le(\"mansi\")"
      ],
      "metadata": {
        "colab": {
          "base_uri": "https://localhost:8080/"
        },
        "id": "ArvlFKyjcPoJ",
        "outputId": "a4259e20-52d4-429c-cc2b-6cfb3fd4bb97"
      },
      "execution_count": 3,
      "outputs": [
        {
          "output_type": "execute_result",
          "data": {
            "text/plain": [
              "5"
            ]
          },
          "metadata": {},
          "execution_count": 3
        }
      ]
    },
    {
      "cell_type": "markdown",
      "source": [
        "9. Write a python program that uses `map()` to convert a list of temperatures from caisius to fahrenheit."
      ],
      "metadata": {
        "id": "zlnDiBMblBQ-"
      }
    },
    {
      "cell_type": "code",
      "source": [
        "c = 47\n",
        "\n",
        "# Converting the temperature to Fahrenheit using the formula\n",
        "f = (c * 1.8) + 32\n",
        "\n",
        "print(str(c))\n",
        "print(str(f))"
      ],
      "metadata": {
        "colab": {
          "base_uri": "https://localhost:8080/"
        },
        "id": "SXpZ_WJ_bite",
        "outputId": "c97e2452-6cb6-45ac-b81a-ee12b472bc2f"
      },
      "execution_count": 2,
      "outputs": [
        {
          "output_type": "stream",
          "name": "stdout",
          "text": [
            "47\n",
            "116.60000000000001\n"
          ]
        }
      ]
    },
    {
      "cell_type": "markdown",
      "source": [
        "10. Create a python program that uses `filter()`to remove all the vowels from a given string."
      ],
      "metadata": {
        "id": "KKhZ3QF7e7Uq"
      }
    },
    {
      "cell_type": "code",
      "source": [
        "s = \"hello world\"\n",
        "a = \"aeiou\"\n",
        "for i in s:\n",
        "  if (i not in a):\n",
        "    print(i,end=\"\")"
      ],
      "metadata": {
        "id": "ltG_GfGdcztb",
        "colab": {
          "base_uri": "https://localhost:8080/"
        },
        "outputId": "df015c34-9568-4c84-b048-dd0fad3946a8"
      },
      "execution_count": 2,
      "outputs": [
        {
          "output_type": "stream",
          "name": "stdout",
          "text": [
            "hll wrld"
          ]
        }
      ]
    },
    {
      "cell_type": "markdown",
      "source": [
        "11. Imagine an accounting routine used in a book shop. It works on a list with sublists, which look like this:"
      ],
      "metadata": {
        "id": "BJkwl-wDnU--"
      }
    },
    {
      "cell_type": "code",
      "source": [
        "orders = [\n",
        "    [34587, \"Learning Python, Mark Lutz\", 4, 40.95],\n",
        "    [98762, \"Programming Python, Mark Lutz\", 5, 56.80],\n",
        "    [77226, \"Head First Python, Paul Barry\", 3, 32.95],\n",
        "    [88112, \"Einführung in Python3, Bernd Klein\", 3, 24.99]\n",
        "]\n",
        "\n",
        "# Use map and lambda to calculate the total price for each order and apply the 10 euro increase\n",
        "processed_orders = list(map(lambda order: (order[0], (order[2] * order[3] + 10) if (order[2] * order[3]) < 100 else (order[2] * order[3])), orders))\n",
        "\n",
        "print(processed_orders)"
      ],
      "metadata": {
        "colab": {
          "base_uri": "https://localhost:8080/"
        },
        "id": "SXuVIa5LgFGX",
        "outputId": "acea6b91-9ae0-4304-a4ca-0002e5a3cc44"
      },
      "execution_count": 7,
      "outputs": [
        {
          "output_type": "stream",
          "name": "stdout",
          "text": [
            "[(34587, 163.8), (98762, 284.0), (77226, 108.85000000000001), (88112, 84.97)]\n"
          ]
        }
      ]
    },
    {
      "cell_type": "code",
      "source": [],
      "metadata": {
        "id": "oqUON9bsmSXv"
      },
      "execution_count": null,
      "outputs": []
    }
  ]
}